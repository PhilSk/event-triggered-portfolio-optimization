{
 "cells": [
  {
   "cell_type": "markdown",
   "metadata": {},
   "source": [
    "#### Delete"
   ]
  },
  {
   "cell_type": "code",
   "execution_count": 33,
   "metadata": {},
   "outputs": [
    {
     "name": "stdout",
     "output_type": "stream",
     "text": [
      "0\n"
     ]
    }
   ],
   "source": [
    "from pymongo import MongoClient\n",
    "\n",
    "client = MongoClient(host=\"localhost\", port=27017)\n",
    "db = client.cno\n",
    "runs = db.runs\n",
    "# print(runs.delete_many({}).deleted_count)\n",
    "%reset -f"
   ]
  },
  {
   "cell_type": "markdown",
   "metadata": {},
   "source": [
    "#### Update"
   ]
  },
  {
   "cell_type": "code",
   "execution_count": 2,
   "metadata": {},
   "outputs": [
    {
     "name": "stdout",
     "output_type": "stream",
     "text": [
      "0\n"
     ]
    }
   ],
   "source": [
    "from pymongo import MongoClient\n",
    "\n",
    "client = MongoClient(host=\"localhost\", port=27017)\n",
    "db = client.cno\n",
    "runs = db.runs\n",
    "\n",
    "query = { 'note': '17.08.22' }\n",
    "new_values = { '$set': { 'note': 'main' } }\n",
    "# new_values = {'$unset': { 'metric_log': ''}}\n",
    "print(runs.update_many(query, new_values).modified_count)\n",
    "\n",
    "%reset -f"
   ]
  },
  {
   "cell_type": "code",
   "execution_count": null,
   "metadata": {},
   "outputs": [],
   "source": [
    "from pymongo import MongoClient\n",
    "\n",
    "client = MongoClient(host=\"localhost\", port=27017)\n",
    "db = client.cno\n",
    "runs = db.runs\n",
    "\n",
    "query = { 'note': '26.05.22' }\n",
    "new_values = { '$rename': { 'metric_val': 'metric' } }\n",
    "\n",
    "# print(runs.update_many(query, new_values).modified_count)\n",
    "\n",
    "%reset -f"
   ]
  },
  {
   "cell_type": "markdown",
   "metadata": {},
   "source": [
    "#### Read"
   ]
  },
  {
   "cell_type": "code",
   "execution_count": 47,
   "metadata": {},
   "outputs": [
    {
     "name": "stdout",
     "output_type": "stream",
     "text": [
      "0\tSR\tPORTFOLIO_RETURN_RF\tFTSE\t198\t0.8659\tAnnualized return: 0.1242\n",
      "1\tSR\tPORTFOLIO_RETURN_MU\tFTSE\t217\t0.8683\tAnnualized return: 0.1246\n",
      "2\tSR\tPORTFOLIO_RETURN_RF\tHSCI\t196\t1.0932\tAnnualized return: 0.1384\n",
      "3\tSR\tPORTFOLIO_RETURN_MU\tHSCI\t240\t1.0983\tAnnualized return: 0.1392\n",
      "4\tSR\tPORTFOLIO_RETURN_RF\tHDAX\t192\t0.7472\tAnnualized return: 0.1362\n",
      "5\tSR\tPORTFOLIO_RETURN_MU\tHDAX\t209\t0.7462\tAnnualized return: 0.1359\n",
      "6\tSoR\tPORTFOLIO_RETURN_RF\tFTSE\t197\t1.2982\tAnnualized return: 0.1303\n",
      "7\tSoR\tPORTFOLIO_RETURN_MU\tFTSE\t212\t1.2964\tAnnualized return: 0.1301\n",
      "8\tSR\tPORTFOLIO_RETURN_RF\tSP500\t189\t1.2811\tAnnualized return: 0.1625\n",
      "9\tSR\tPORTFOLIO_RETURN_MU\tSP500\t237\t1.2786\tAnnualized return: 0.1620\n",
      "10\tSoR\tPORTFOLIO_RETURN_RF\tHSCI\t191\t1.4836\tAnnualized return: 0.1270\n",
      "11\tSoR\tPORTFOLIO_RETURN_RF\tHDAX\t192\t1.1786\tAnnualized return: 0.1586\n",
      "12\tSoR\tPORTFOLIO_RETURN_MU\tHSCI\t243\t1.4972\tAnnualized return: 0.1284\n",
      "13\tSoR\tPORTFOLIO_RETURN_MU\tHDAX\t208\t1.1772\tAnnualized return: 0.1586\n",
      "14\tSoR\tPORTFOLIO_RETURN_RF\tSP500\t193\t2.1818\tAnnualized return: 0.1736\n",
      "15\tSoR\tPORTFOLIO_RETURN_MU\tSP500\t230\t2.1757\tAnnualized return: 0.1730\n"
     ]
    }
   ],
   "source": [
    "import numpy as np\n",
    "import sys\n",
    "from pymongo import MongoClient\n",
    "\n",
    "client = MongoClient(host=\"localhost\", port=27017)\n",
    "db = client.cno\n",
    "runs = db.runs\n",
    "\n",
    "docs = runs.find({\n",
    "    # 'dataset': 'HSCI',\n",
    "    # 'objective': 'SR',\n",
    "    'note': 'main',\n",
    "    'data_partition': 0.5,\n",
    "    'rebalancing_rule': 'EVENT',\n",
    "    'event_type': {'$in': ['PORTFOLIO_RETURN_MU', 'PORTFOLIO_RETURN_RF']},\n",
    "    })\n",
    "\n",
    "for i, obj in enumerate(docs):\n",
    "    print(f'{i}\\t{obj[\"objective\"]}\\t{obj[\"event_type\"]}\\t{obj[\"dataset\"]}\\t{obj[\"rebalance_count\"]}\\t{np.sqrt(938/18)*obj[\"metric\"]:.4f}\\tAnnualized return: {obj[\"annualized_returns\"][-1]:.4f}')\n",
    "\n",
    "%reset -f"
   ]
  },
  {
   "cell_type": "code",
   "execution_count": 15,
   "metadata": {},
   "outputs": [
    {
     "name": "stdout",
     "output_type": "stream",
     "text": [
      "SR\tHSCI\t0.04051\t46\tSR: 1.1798\tAnnualized return: 0.1495\n",
      "\n",
      "SR\tFTSE\t0.04201\t59\tSR: 0.9131\tAnnualized return: 0.1303\n",
      "\n",
      "SR\tHDAX\t0.03976\t121\tSR: 0.7959\tAnnualized return: 0.1463\n",
      "\n",
      "SR\tSP500\t0.04651\t32\tSR: 1.2769\tAnnualized return: 0.1651\n",
      "\n",
      "SoR\tHSCI\t0.11326\t1\tSoR: 1.8137\tAnnualized return: 0.1780\n",
      "\n",
      "SoR\tFTSE\t0.03676\t90\tSoR: 1.3948\tAnnualized return: 0.1374\n",
      "\n",
      "SoR\tHDAX\t0.14176\t2\tSoR: 1.3001\tAnnualized return: 0.1776\n",
      "\n",
      "SoR\tSP500\t0.08701\t4\tSoR: 2.1959\tAnnualized return: 0.1779\n",
      "\n"
     ]
    }
   ],
   "source": [
    "import datetime\n",
    "import numpy as np\n",
    "from pymongo import MongoClient\n",
    "\n",
    "client = MongoClient(host=\"localhost\", port=27017)\n",
    "db = client.cno\n",
    "runs = db.runs\n",
    "\n",
    "datasets = ['HSCI', 'FTSE', 'HDAX', 'SP500']\n",
    "objectives = ['SR', 'SoR']\n",
    "for objective in objectives:\n",
    "    for dataset in datasets:\n",
    "        data = runs.find({\n",
    "            'objective': objective,\n",
    "            'dataset': dataset,\n",
    "            'rebalancing_rule': 'EVENT',\n",
    "            'data_partition': 1/2,\n",
    "            # 'theta': 2,\n",
    "            'note': '24.06.22',\n",
    "        }).sort('metric', -1).limit(1)\n",
    "\n",
    "        data = list(data)\n",
    "        for obj in data:\n",
    "            # for key in ['_id', 'portfolio_returns', 'gamma_log', 'metric_seq', 'metric_ex_ante_seq', 'annualized_returns', 'portfolios']:\n",
    "            for key in ['_id', 'portfolio_returns', 'gamma_log', 'metric_seq', 'portfolios']:\n",
    "                del obj[key]\n",
    "            print(f'{obj[\"objective\"]}\\t{obj[\"dataset\"]}\\t{obj[\"theta\"]}\\t{obj[\"rebalance_count\"]}\\t{objective}: {np.sqrt(938/18)*obj[\"metric\"]:.4f}\\tAnnualized return: {obj[\"annualized_returns\"][-1]:.4f}')\n",
    "        print('')\n",
    "\n",
    "%reset -f"
   ]
  },
  {
   "cell_type": "code",
   "execution_count": 2,
   "metadata": {},
   "outputs": [
    {
     "name": "stdout",
     "output_type": "stream",
     "text": [
      "5664\n"
     ]
    }
   ],
   "source": [
    "from pymongo import MongoClient\n",
    "\n",
    "client = MongoClient(host=\"localhost\", port=27017)\n",
    "db = client.cno\n",
    "runs = db.runs\n",
    "\n",
    "print(len(list(runs.find({}))))\n",
    "%reset -f"
   ]
  }
 ],
 "metadata": {
  "kernelspec": {
   "display_name": "Python 3.8.10 ('venv')",
   "language": "python",
   "name": "python3"
  },
  "language_info": {
   "codemirror_mode": {
    "name": "ipython",
    "version": 3
   },
   "file_extension": ".py",
   "mimetype": "text/x-python",
   "name": "python",
   "nbconvert_exporter": "python",
   "pygments_lexer": "ipython3",
   "version": "3.8.10"
  },
  "orig_nbformat": 4,
  "vscode": {
   "interpreter": {
    "hash": "6a13f1f0eeab2acdca708f5e9a944575774d31adb4316bff3f312b2000c783da"
   }
  }
 },
 "nbformat": 4,
 "nbformat_minor": 2
}
