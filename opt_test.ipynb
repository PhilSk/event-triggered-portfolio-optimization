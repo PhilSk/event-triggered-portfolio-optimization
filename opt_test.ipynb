{
 "cells": [
  {
   "cell_type": "code",
   "execution_count": 6,
   "metadata": {},
   "outputs": [
    {
     "data": {
      "text/plain": [
       "True"
      ]
     },
     "execution_count": 6,
     "metadata": {},
     "output_type": "execute_result"
    }
   ],
   "source": [
    "import numpy as np\n",
    "\n",
    "\n",
    "# for t in range(5):\n",
    "#     print(np.all(np.load(f'data/test/osqp_{t}.npy') == np.load(f'data/test/scs_{t}.npy')))\n",
    "\n",
    "# np.all(np.abs(osqp_-mosek_) < 10e-5)\n",
    "\n",
    "\n",
    "osqp = np.load(f'data/MOSEK.npy')\n",
    "scs = np.load(f'data/ECOS.npy')\n",
    "scs - osqp\n",
    "np.all(np.abs(scs - osqp) < 10e-8)"
   ]
  }
 ],
 "metadata": {
  "interpreter": {
   "hash": "aee8b7b246df8f9039afb4144a1f6fd8d2ca17a180786b69acc140d282b71a49"
  },
  "kernelspec": {
   "display_name": "Python 3.9.7 64-bit",
   "language": "python",
   "name": "python3"
  },
  "language_info": {
   "codemirror_mode": {
    "name": "ipython",
    "version": 3
   },
   "file_extension": ".py",
   "mimetype": "text/x-python",
   "name": "python",
   "nbconvert_exporter": "python",
   "pygments_lexer": "ipython3",
   "version": "3.9.10"
  },
  "orig_nbformat": 4
 },
 "nbformat": 4,
 "nbformat_minor": 2
}
